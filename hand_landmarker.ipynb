{
  "cells": [
    {
      "cell_type": "markdown",
      "metadata": {
        "id": "h2q27gKz1H20"
      },
      "source": [
        "##### Copyright 2023 The MediaPipe Authors. All Rights Reserved."
      ]
    },
    {
      "cell_type": "code",
      "execution_count": 182,
      "metadata": {
        "id": "TUfAcER1oUS6"
      },
      "outputs": [],
      "source": [
        "#@title Licensed under the Apache License, Version 2.0 (the \"License\");\n",
        "# you may not use this file except in compliance with the License.\n",
        "# You may obtain a copy of the License at\n",
        "#\n",
        "# https://www.apache.org/licenses/LICENSE-2.0\n",
        "#\n",
        "# Unless required by applicable law or agreed to in writing, software\n",
        "# distributed under the License is distributed on an \"AS IS\" BASIS,\n",
        "# WITHOUT WARRANTIES OR CONDITIONS OF ANY KIND, either express or implied.\n",
        "# See the License for the specific language governing permissions and\n",
        "# limitations under the License."
      ]
    },
    {
      "attachments": {},
      "cell_type": "markdown",
      "metadata": {},
      "source": [
        "### 2D Detection of landmarks in a vid and return dataframe:"
      ]
    },
    {
      "cell_type": "code",
      "execution_count": 183,
      "metadata": {},
      "outputs": [],
      "source": [
        "import cv2\n",
        "import numpy as np\n",
        "import mediapipe as mp\n",
        "import pandas as pd\n",
        "mp_drawing = mp.solutions.drawing_utils\n",
        "mp_drawing_styles = mp.solutions.drawing_styles\n",
        "mp_hands = mp.solutions.hands\n",
        "\n",
        "\n",
        "# Define the number of columns:\n",
        "num_landmarks = 21\n",
        "\n",
        "def detect_landmark_video(vid_path,start_frame,num_frames):\n",
        "    # Use OpenCV’s VideoCapture to load the input video:\n",
        "    video_capture = cv2.VideoCapture(vid_path)\n",
        "\n",
        "    # Check if the video is opened successfully\n",
        "    if not video_capture.isOpened():\n",
        "        print(f\"Error: Could not open video {vid_path}.\")\n",
        "        return\n",
        "    \n",
        "    # Set the starting frame\n",
        "    video_capture.set(cv2.CAP_PROP_POS_FRAMES, start_frame)\n",
        "\n",
        "    # counter of frames:\n",
        "    frame_count = 0\n",
        "\n",
        "    annotated_results = []\n",
        "    # Create a hand landmarker instance with the video mode:\n",
        "    with mp_hands.Hands(\n",
        "    model_complexity=1,\n",
        "    max_num_hands=1,\n",
        "    min_detection_confidence=0.5,\n",
        "    min_tracking_confidence=0.5) as hands:\n",
        "      while video_capture.isOpened():\n",
        "        ret, image = video_capture.read()\n",
        "        if not ret:\n",
        "          # When vid is done:\n",
        "          break\n",
        "        \n",
        "        if frame_count < num_frames:\n",
        "          frame_count += 1\n",
        "          # To improve performance, optionally mark the image as not writeable to\n",
        "          # pass by reference.\n",
        "          image.flags.writeable = False\n",
        "          image = cv2.cvtColor(image, cv2.COLOR_BGR2RGB)\n",
        "          results = hands.process(image)\n",
        "\n",
        "          # Draw the hand annotations on the image.\n",
        "          image.flags.writeable = True\n",
        "          image = cv2.cvtColor(image, cv2.COLOR_RGB2BGR)\n",
        "          if results.multi_hand_landmarks:\n",
        "            for hand_landmarks in results.multi_hand_landmarks:\n",
        "              mp_drawing.draw_landmarks(\n",
        "                  image,\n",
        "                  hand_landmarks,\n",
        "                  mp_hands.HAND_CONNECTIONS,\n",
        "                  mp_drawing_styles.get_default_hand_landmarks_style(),\n",
        "                  mp_drawing_styles.get_default_hand_connections_style())\n",
        "          \n",
        "          image_height, image_width, _ = image.shape\n",
        "          # append the annotattions to the list:\n",
        "          annotated_results.append(results)\n",
        "        else:\n",
        "           # if reached the ending frame:\n",
        "           break\n",
        "\n",
        "      # going through frames:\n",
        "      annotations = []\n",
        "      for result in annotated_results:\n",
        "        x_points = []\n",
        "        y_points = []\n",
        "\n",
        "        # if nothing was detected in the frame:\n",
        "        if result.multi_hand_landmarks is None:\n",
        "          x_points = [-1] * num_landmarks\n",
        "          y_points = [-1] * num_landmarks\n",
        "        # if something is detected in the frame:\n",
        "        else:  \n",
        "          # going through landmarks of the frame:\n",
        "          for cnt, hand_landmark in enumerate(result.multi_hand_landmarks[0].landmark):\n",
        "            x_points.append(hand_landmark.x * image_width)\n",
        "            y_points.append(hand_landmark.y * image_height)\n",
        "        \n",
        "        # make the annotations data appropriate for the dataframe:\n",
        "        x_points.extend(y_points)\n",
        "        annotations.append(x_points)\n",
        "      \n",
        "      # Define dataframe to hold the dannotations ata:\n",
        "      # Create column names:\n",
        "      columns = [f'x{i}' for i in range(0, num_landmarks)] + [f'y{i}' for i in range(0, num_landmarks)]\n",
        "\n",
        "      # Create the DataFrame\n",
        "      df = pd.DataFrame(annotations,columns=columns)\n",
        "    \n",
        "    # Release the VideoCapture object:\n",
        "    video_capture.release()\n",
        "    \n",
        "    return df\n",
        "          \n",
        "        "
      ]
    },
    {
      "attachments": {},
      "cell_type": "markdown",
      "metadata": {},
      "source": [
        "### Create annotated videos from the 2D predictions"
      ]
    },
    {
      "cell_type": "code",
      "execution_count": 184,
      "metadata": {},
      "outputs": [],
      "source": [
        "import cv2\n",
        "import mediapipe as mp\n",
        "mp_drawing = mp.solutions.drawing_utils\n",
        "mp_drawing_styles = mp.solutions.drawing_styles\n",
        "mp_hands = mp.solutions.hands\n",
        "\n",
        "def make_2D_reconstruction(vid_path,out_path,start_frame,num_frames):\n",
        "    # Use OpenCV’s VideoCapture to load the input video:\n",
        "    video_capture = cv2.VideoCapture(vid_path)\n",
        "\n",
        "    # Load the frame rate of the video using OpenCV’s CV_CAP_PROP_FPS:\n",
        "    frame_rate = video_capture.get(cv2.CAP_PROP_FPS)\n",
        "\n",
        "    # Create video writer instance to make an annotated vid:\n",
        "    ret, image = video_capture.read()\n",
        "    height, width, _ = image.shape\n",
        "    fourcc = cv2.VideoWriter_fourcc(*'XVID')\n",
        "    out = cv2.VideoWriter(out_path, fourcc, frame_rate, (width, height))\n",
        "\n",
        "    annotated_results = []\n",
        "    # Create a hand landmarker instance with the video mode:\n",
        "    with mp_hands.Hands(\n",
        "    model_complexity=1,\n",
        "    max_num_hands=1,\n",
        "    min_detection_confidence=0.5,\n",
        "    min_tracking_confidence=0.5) as hands:\n",
        "      while video_capture.isOpened():\n",
        "        ret, image = video_capture.read()\n",
        "        if not ret:\n",
        "          print(\"Ignoring empty camera frame.\")\n",
        "          # If loading a video, use 'break' instead of 'continue'.\n",
        "          break\n",
        "        \n",
        "        # To improve performance, optionally mark the image as not writeable to\n",
        "        # pass by reference.\n",
        "        image.flags.writeable = False\n",
        "        image = cv2.cvtColor(image, cv2.COLOR_BGR2RGB)\n",
        "        results = hands.process(image)\n",
        "\n",
        "        # Draw the hand annotations on the image.\n",
        "        image.flags.writeable = True\n",
        "        image = cv2.cvtColor(image, cv2.COLOR_RGB2BGR)\n",
        "        if results.multi_hand_landmarks:\n",
        "          for hand_landmarks in results.multi_hand_landmarks:\n",
        "            mp_drawing.draw_landmarks(\n",
        "                image,\n",
        "                hand_landmarks,\n",
        "                mp_hands.HAND_CONNECTIONS,\n",
        "                mp_drawing_styles.get_default_hand_landmarks_style(),\n",
        "                mp_drawing_styles.get_default_hand_connections_style())\n",
        "        \n",
        "        # append the annotattions to the list:\n",
        "        annotated_results.append(results)\n",
        "\n",
        "        # write the annotated vid:\n",
        "        out.write(image)\n",
        "      \n",
        "      # Release the VideoCapture object:\n",
        "      video_capture.release()\n",
        "      out.release()\n",
        "          \n",
        "\n",
        "      "
      ]
    },
    {
      "attachments": {},
      "cell_type": "markdown",
      "metadata": {},
      "source": [
        "## MAIN Control of the Program"
      ]
    },
    {
      "cell_type": "code",
      "execution_count": 185,
      "metadata": {},
      "outputs": [
        {
          "name": "stdout",
          "output_type": "stream",
          "text": [
            "Detecting Video: Camera_LF.avi , frame 0 to 99...\n"
          ]
        },
        {
          "name": "stderr",
          "output_type": "stream",
          "text": [
            "I0000 00:00:1715557573.672319  926072 gl_context_egl.cc:85] Successfully initialized EGL. Major : 1 Minor: 5\n",
            "I0000 00:00:1715557573.759431  982249 gl_context.cc:357] GL version: 3.2 (OpenGL ES 3.2 NVIDIA 525.105.17), renderer: NVIDIA GeForce GTX 1080 Ti/PCIe/SSE2\n",
            "/home/pruszynski/Desktop/Projects/HandTracker3D/.conda/lib/python3.11/site-packages/google/protobuf/symbol_database.py:55: UserWarning: SymbolDatabase.GetPrototype() is deprecated. Please use message_factory.GetMessageClass() instead. SymbolDatabase.GetPrototype() will be removed soon.\n",
            "  warnings.warn('SymbolDatabase.GetPrototype() is deprecated. Please '\n"
          ]
        },
        {
          "name": "stdout",
          "output_type": "stream",
          "text": [
            "Duration: 3.37 seconds\n",
            "Detecting Video: Camera_RM.avi , frame 0 to 99...\n"
          ]
        },
        {
          "name": "stderr",
          "output_type": "stream",
          "text": [
            "I0000 00:00:1715557577.047572  926072 gl_context_egl.cc:85] Successfully initialized EGL. Major : 1 Minor: 5\n",
            "I0000 00:00:1715557577.193880  982322 gl_context.cc:357] GL version: 3.2 (OpenGL ES 3.2 NVIDIA 525.105.17), renderer: NVIDIA GeForce GTX 1080 Ti/PCIe/SSE2\n",
            "/home/pruszynski/Desktop/Projects/HandTracker3D/.conda/lib/python3.11/site-packages/google/protobuf/symbol_database.py:55: UserWarning: SymbolDatabase.GetPrototype() is deprecated. Please use message_factory.GetMessageClass() instead. SymbolDatabase.GetPrototype() will be removed soon.\n",
            "  warnings.warn('SymbolDatabase.GetPrototype() is deprecated. Please '\n"
          ]
        },
        {
          "name": "stdout",
          "output_type": "stream",
          "text": [
            "Duration: 3.33 seconds\n",
            "Detecting Video: Camera_LM.avi , frame 0 to 99...\n"
          ]
        },
        {
          "name": "stderr",
          "output_type": "stream",
          "text": [
            "I0000 00:00:1715557580.378184  926072 gl_context_egl.cc:85] Successfully initialized EGL. Major : 1 Minor: 5\n",
            "I0000 00:00:1715557580.509883  982354 gl_context.cc:357] GL version: 3.2 (OpenGL ES 3.2 NVIDIA 525.105.17), renderer: NVIDIA GeForce GTX 1080 Ti/PCIe/SSE2\n"
          ]
        },
        {
          "name": "stdout",
          "output_type": "stream",
          "text": [
            "Duration: 4.08 seconds\n",
            "Detecting Video: Camera_RB.avi , frame 0 to 99...\n"
          ]
        },
        {
          "name": "stderr",
          "output_type": "stream",
          "text": [
            "I0000 00:00:1715557584.460550  926072 gl_context_egl.cc:85] Successfully initialized EGL. Major : 1 Minor: 5\n",
            "I0000 00:00:1715557584.576879  982371 gl_context.cc:357] GL version: 3.2 (OpenGL ES 3.2 NVIDIA 525.105.17), renderer: NVIDIA GeForce GTX 1080 Ti/PCIe/SSE2\n",
            "/home/pruszynski/Desktop/Projects/HandTracker3D/.conda/lib/python3.11/site-packages/google/protobuf/symbol_database.py:55: UserWarning: SymbolDatabase.GetPrototype() is deprecated. Please use message_factory.GetMessageClass() instead. SymbolDatabase.GetPrototype() will be removed soon.\n",
            "  warnings.warn('SymbolDatabase.GetPrototype() is deprecated. Please '\n"
          ]
        },
        {
          "name": "stdout",
          "output_type": "stream",
          "text": [
            "Duration: 3.38 seconds\n",
            "Detecting Video: Camera_RF.avi , frame 0 to 99...\n"
          ]
        },
        {
          "name": "stderr",
          "output_type": "stream",
          "text": [
            "I0000 00:00:1715557587.844752  926072 gl_context_egl.cc:85] Successfully initialized EGL. Major : 1 Minor: 5\n",
            "I0000 00:00:1715557587.960619  982388 gl_context.cc:357] GL version: 3.2 (OpenGL ES 3.2 NVIDIA 525.105.17), renderer: NVIDIA GeForce GTX 1080 Ti/PCIe/SSE2\n",
            "/home/pruszynski/Desktop/Projects/HandTracker3D/.conda/lib/python3.11/site-packages/google/protobuf/symbol_database.py:55: UserWarning: SymbolDatabase.GetPrototype() is deprecated. Please use message_factory.GetMessageClass() instead. SymbolDatabase.GetPrototype() will be removed soon.\n",
            "  warnings.warn('SymbolDatabase.GetPrototype() is deprecated. Please '\n"
          ]
        },
        {
          "name": "stdout",
          "output_type": "stream",
          "text": [
            "Duration: 3.43 seconds\n",
            "Detecting Video: Camera_LB.avi , frame 0 to 99...\n"
          ]
        },
        {
          "name": "stderr",
          "output_type": "stream",
          "text": [
            "I0000 00:00:1715557591.282348  926072 gl_context_egl.cc:85] Successfully initialized EGL. Major : 1 Minor: 5\n",
            "I0000 00:00:1715557591.377525  982410 gl_context.cc:357] GL version: 3.2 (OpenGL ES 3.2 NVIDIA 525.105.17), renderer: NVIDIA GeForce GTX 1080 Ti/PCIe/SSE2\n",
            "/home/pruszynski/Desktop/Projects/HandTracker3D/.conda/lib/python3.11/site-packages/google/protobuf/symbol_database.py:55: UserWarning: SymbolDatabase.GetPrototype() is deprecated. Please use message_factory.GetMessageClass() instead. SymbolDatabase.GetPrototype() will be removed soon.\n",
            "  warnings.warn('SymbolDatabase.GetPrototype() is deprecated. Please '\n"
          ]
        },
        {
          "name": "stdout",
          "output_type": "stream",
          "text": [
            "Duration: 3.28 seconds\n",
            "Detecting Video: Camera_LU.avi , frame 0 to 99...\n"
          ]
        },
        {
          "name": "stderr",
          "output_type": "stream",
          "text": [
            "I0000 00:00:1715557594.562314  926072 gl_context_egl.cc:85] Successfully initialized EGL. Major : 1 Minor: 5\n",
            "I0000 00:00:1715557594.660616  982428 gl_context.cc:357] GL version: 3.2 (OpenGL ES 3.2 NVIDIA 525.105.17), renderer: NVIDIA GeForce GTX 1080 Ti/PCIe/SSE2\n",
            "/home/pruszynski/Desktop/Projects/HandTracker3D/.conda/lib/python3.11/site-packages/google/protobuf/symbol_database.py:55: UserWarning: SymbolDatabase.GetPrototype() is deprecated. Please use message_factory.GetMessageClass() instead. SymbolDatabase.GetPrototype() will be removed soon.\n",
            "  warnings.warn('SymbolDatabase.GetPrototype() is deprecated. Please '\n"
          ]
        },
        {
          "name": "stdout",
          "output_type": "stream",
          "text": [
            "Duration: 3.27 seconds\n",
            "Detecting Video: Camera_RU.avi , frame 0 to 99...\n"
          ]
        },
        {
          "name": "stderr",
          "output_type": "stream",
          "text": [
            "I0000 00:00:1715557597.828571  926072 gl_context_egl.cc:85] Successfully initialized EGL. Major : 1 Minor: 5\n",
            "I0000 00:00:1715557597.944567  982446 gl_context.cc:357] GL version: 3.2 (OpenGL ES 3.2 NVIDIA 525.105.17), renderer: NVIDIA GeForce GTX 1080 Ti/PCIe/SSE2\n",
            "/home/pruszynski/Desktop/Projects/HandTracker3D/.conda/lib/python3.11/site-packages/google/protobuf/symbol_database.py:55: UserWarning: SymbolDatabase.GetPrototype() is deprecated. Please use message_factory.GetMessageClass() instead. SymbolDatabase.GetPrototype() will be removed soon.\n",
            "  warnings.warn('SymbolDatabase.GetPrototype() is deprecated. Please '\n"
          ]
        },
        {
          "name": "stdout",
          "output_type": "stream",
          "text": [
            "Duration: 3.37 seconds\n"
          ]
        }
      ],
      "source": [
        "import os\n",
        "import time\n",
        "import pandas as pd\n",
        "\n",
        "data_path = '/media/pruszynski/Data'\n",
        "recording_name = 'Recording_2023-05-15T154223' #Jon's no board\n",
        "# recording_name = 'Recording_2023-05-05T100719' #Tomo's messy situation\n",
        "# recording_name = 'Recording_2024-01-31T114025' # Ali's normal recording\n",
        "pred_path = './Predictions2D'\n",
        "\n",
        "start_frame = 0\n",
        "num_frames = 100\n",
        "result_df = pd.DataFrame()\n",
        "# Loop through all .avi vids in the folder\n",
        "for filename in os.listdir(os.path.join(data_path, recording_name)):\n",
        "    if filename.endswith('.avi'):\n",
        "        print(f\"Detecting Video: {filename} , frame {start_frame} to {start_frame+num_frames-1}...\")\n",
        "        start_time = time.time()  # Record the start time of the iteration\n",
        "        # Construct the full path to the .avi file and output prediction:\n",
        "        vid_path = os.path.join(data_path, recording_name, filename)\n",
        "\n",
        "        # Ensure the prediction directory exists, create it if it doesn't\n",
        "        if not os.path.exists(os.path.join(pred_path, recording_name)):\n",
        "            os.makedirs(os.path.join(pred_path, recording_name))\n",
        "        \n",
        "        # make 2D predictions:\n",
        "        df = detect_landmark_video(vid_path, start_frame, num_frames)\n",
        "\n",
        "        # add frame number to the df:\n",
        "        df.insert(0, 'frame', [i for i in range(start_frame,start_frame+num_frames)])\n",
        "\n",
        "        # add camera name to the df:\n",
        "        df.insert(0, 'camera', [filename[:-4]]*len(df))\n",
        "\n",
        "        # Concatenate dataframe of different vids to one:\n",
        "        result_df = pd.concat([result_df, df], ignore_index=True)\n",
        "    \n",
        "        end_time = time.time()  # Record the end time of the iteration\n",
        "        iteration_time = end_time - start_time  # Calculate the time taken by the iteration\n",
        "        print(f\"Duration: {iteration_time:.2f} seconds\")\n",
        "\n",
        "# Save the resulting dataframe to a CSV file:\n",
        "df_path = os.path.join(pred_path, recording_name, recording_name+'.csv')\n",
        "result_df.to_csv(df_path, index=False)\n"
      ]
    }
  ],
  "metadata": {
    "colab": {
      "collapsed_sections": [
        "h2q27gKz1H20"
      ],
      "provenance": []
    },
    "kernelspec": {
      "display_name": "Python 3 (ipykernel)",
      "language": "python",
      "name": "python3"
    },
    "language_info": {
      "codemirror_mode": {
        "name": "ipython",
        "version": 3
      },
      "file_extension": ".py",
      "mimetype": "text/x-python",
      "name": "python",
      "nbconvert_exporter": "python",
      "pygments_lexer": "ipython3",
      "version": "3.11.9"
    }
  },
  "nbformat": 4,
  "nbformat_minor": 0
}
