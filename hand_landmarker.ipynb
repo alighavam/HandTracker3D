{
  "cells": [
    {
      "cell_type": "markdown",
      "metadata": {
        "id": "h2q27gKz1H20"
      },
      "source": [
        "##### Copyright 2023 The MediaPipe Authors. All Rights Reserved."
      ]
    },
    {
      "cell_type": "code",
      "execution_count": 14,
      "metadata": {
        "id": "TUfAcER1oUS6"
      },
      "outputs": [],
      "source": [
        "#@title Licensed under the Apache License, Version 2.0 (the \"License\");\n",
        "# you may not use this file except in compliance with the License.\n",
        "# You may obtain a copy of the License at\n",
        "#\n",
        "# https://www.apache.org/licenses/LICENSE-2.0\n",
        "#\n",
        "# Unless required by applicable law or agreed to in writing, software\n",
        "# distributed under the License is distributed on an \"AS IS\" BASIS,\n",
        "# WITHOUT WARRANTIES OR CONDITIONS OF ANY KIND, either express or implied.\n",
        "# See the License for the specific language governing permissions and\n",
        "# limitations under the License."
      ]
    },
    {
      "attachments": {},
      "cell_type": "markdown",
      "metadata": {},
      "source": [
        "## Detect landmarks in 2D vid"
      ]
    },
    {
      "cell_type": "code",
      "execution_count": 15,
      "metadata": {},
      "outputs": [],
      "source": [
        "import cv2\n",
        "import mediapipe as mp\n",
        "mp_drawing = mp.solutions.drawing_utils\n",
        "mp_drawing_styles = mp.solutions.drawing_styles\n",
        "mp_hands = mp.solutions.hands\n",
        "\n",
        "def detect_landmark_video(vid_path,out_path,start_frame,num_frames):\n",
        "    # Use OpenCV’s VideoCapture to load the input video:\n",
        "    video_capture = cv2.VideoCapture(vid_path)\n",
        "\n",
        "    # Check if the video is opened successfully\n",
        "    if not video_capture.isOpened():\n",
        "        print(f\"Error: Could not open video {vid_path}.\")\n",
        "        return\n",
        "    \n",
        "    # Set the starting frame\n",
        "    video_capture.set(cv2.CAP_PROP_POS_FRAMES, start_frame)\n",
        "\n",
        "    # counter of frames:\n",
        "    frame_count = 0\n",
        "\n",
        "    annotated_results = []\n",
        "    # Create a hand landmarker instance with the video mode:\n",
        "    with mp_hands.Hands(\n",
        "    model_complexity=1,\n",
        "    max_num_hands=1,\n",
        "    min_detection_confidence=0.5,\n",
        "    min_tracking_confidence=0.5) as hands:\n",
        "      while video_capture.isOpened():\n",
        "        ret, image = video_capture.read()\n",
        "        if not ret:\n",
        "          # When vid is done:\n",
        "          break\n",
        "        \n",
        "        if frame_count < num_frames:\n",
        "          frame_count += 1\n",
        "          # To improve performance, optionally mark the image as not writeable to\n",
        "          # pass by reference.\n",
        "          image.flags.writeable = False\n",
        "          image = cv2.cvtColor(image, cv2.COLOR_BGR2RGB)\n",
        "          results = hands.process(image)\n",
        "\n",
        "          # Draw the hand annotations on the image.\n",
        "          image.flags.writeable = True\n",
        "          image = cv2.cvtColor(image, cv2.COLOR_RGB2BGR)\n",
        "          if results.multi_hand_landmarks:\n",
        "            for hand_landmarks in results.multi_hand_landmarks:\n",
        "              mp_drawing.draw_landmarks(\n",
        "                  image,\n",
        "                  hand_landmarks,\n",
        "                  mp_hands.HAND_CONNECTIONS,\n",
        "                  mp_drawing_styles.get_default_hand_landmarks_style(),\n",
        "                  mp_drawing_styles.get_default_hand_connections_style())\n",
        "          \n",
        "          # append the annotattions to the list:\n",
        "          annotated_results.append(results)\n",
        "        else:\n",
        "           # if reached the ending frame:\n",
        "           break\n",
        "        \n",
        "        "
      ]
    },
    {
      "cell_type": "code",
      "execution_count": 16,
      "metadata": {},
      "outputs": [],
      "source": [
        "import cv2\n",
        "import mediapipe as mp\n",
        "mp_drawing = mp.solutions.drawing_utils\n",
        "mp_drawing_styles = mp.solutions.drawing_styles\n",
        "mp_hands = mp.solutions.hands\n",
        "\n",
        "def make_2D_reconstruction(vid_path,out_path,start_frame,num_frames):\n",
        "    # Use OpenCV’s VideoCapture to load the input video:\n",
        "    video_capture = cv2.VideoCapture(vid_path)\n",
        "\n",
        "    # Load the frame rate of the video using OpenCV’s CV_CAP_PROP_FPS:\n",
        "    frame_rate = video_capture.get(cv2.CAP_PROP_FPS)\n",
        "\n",
        "    # Create video writer instance to make an annotated vid:\n",
        "    ret, image = video_capture.read()\n",
        "    height, width, _ = image.shape\n",
        "    fourcc = cv2.VideoWriter_fourcc(*'XVID')\n",
        "    out = cv2.VideoWriter(out_path, fourcc, frame_rate, (width, height))\n",
        "\n",
        "    annotated_results = []\n",
        "    # Create a hand landmarker instance with the video mode:\n",
        "    with mp_hands.Hands(\n",
        "    model_complexity=1,\n",
        "    max_num_hands=1,\n",
        "    min_detection_confidence=0.5,\n",
        "    min_tracking_confidence=0.5) as hands:\n",
        "      while video_capture.isOpened():\n",
        "        ret, image = video_capture.read()\n",
        "        if not ret:\n",
        "          print(\"Ignoring empty camera frame.\")\n",
        "          # If loading a video, use 'break' instead of 'continue'.\n",
        "          break\n",
        "        \n",
        "        # To improve performance, optionally mark the image as not writeable to\n",
        "        # pass by reference.\n",
        "        image.flags.writeable = False\n",
        "        image = cv2.cvtColor(image, cv2.COLOR_BGR2RGB)\n",
        "        results = hands.process(image)\n",
        "\n",
        "        # Draw the hand annotations on the image.\n",
        "        image.flags.writeable = True\n",
        "        image = cv2.cvtColor(image, cv2.COLOR_RGB2BGR)\n",
        "        if results.multi_hand_landmarks:\n",
        "          for hand_landmarks in results.multi_hand_landmarks:\n",
        "            mp_drawing.draw_landmarks(\n",
        "                image,\n",
        "                hand_landmarks,\n",
        "                mp_hands.HAND_CONNECTIONS,\n",
        "                mp_drawing_styles.get_default_hand_landmarks_style(),\n",
        "                mp_drawing_styles.get_default_hand_connections_style())\n",
        "        \n",
        "        # append the annotattions to the list:\n",
        "        annotated_results.append(results)\n",
        "\n",
        "        # write the annotated vid:\n",
        "        out.write(image)\n",
        "      \n",
        "      # Release the VideoCapture object:\n",
        "      video_capture.release()\n",
        "      out.release()\n",
        "          \n",
        "\n",
        "      "
      ]
    },
    {
      "attachments": {},
      "cell_type": "markdown",
      "metadata": {},
      "source": [
        "## 2D prediction"
      ]
    },
    {
      "cell_type": "code",
      "execution_count": 18,
      "metadata": {},
      "outputs": [
        {
          "name": "stderr",
          "output_type": "stream",
          "text": [
            "I0000 00:00:1715297633.481874  926072 gl_context_egl.cc:85] Successfully initialized EGL. Major : 1 Minor: 5\n",
            "I0000 00:00:1715297633.522830  926517 gl_context.cc:357] GL version: 3.2 (OpenGL ES 3.2 NVIDIA 525.105.17), renderer: NVIDIA GeForce GTX 1080 Ti/PCIe/SSE2\n",
            "/home/pruszynski/Desktop/Projects/HandTracker3D/.conda/lib/python3.11/site-packages/google/protobuf/symbol_database.py:55: UserWarning: SymbolDatabase.GetPrototype() is deprecated. Please use message_factory.GetMessageClass() instead. SymbolDatabase.GetPrototype() will be removed soon.\n",
            "  warnings.warn('SymbolDatabase.GetPrototype() is deprecated. Please '\n"
          ]
        },
        {
          "name": "stdout",
          "output_type": "stream",
          "text": [
            "Duration: 104.24 seconds\n"
          ]
        },
        {
          "name": "stderr",
          "output_type": "stream",
          "text": [
            "I0000 00:00:1715297737.717041  926072 gl_context_egl.cc:85] Successfully initialized EGL. Major : 1 Minor: 5\n",
            "I0000 00:00:1715297737.830952  926569 gl_context.cc:357] GL version: 3.2 (OpenGL ES 3.2 NVIDIA 525.105.17), renderer: NVIDIA GeForce GTX 1080 Ti/PCIe/SSE2\n"
          ]
        },
        {
          "name": "stdout",
          "output_type": "stream",
          "text": [
            "Duration: 3.31 seconds\n"
          ]
        },
        {
          "name": "stderr",
          "output_type": "stream",
          "text": [
            "I0000 00:00:1715297741.028321  926072 gl_context_egl.cc:85] Successfully initialized EGL. Major : 1 Minor: 5\n",
            "I0000 00:00:1715297741.114500  926588 gl_context.cc:357] GL version: 3.2 (OpenGL ES 3.2 NVIDIA 525.105.17), renderer: NVIDIA GeForce GTX 1080 Ti/PCIe/SSE2\n"
          ]
        },
        {
          "ename": "KeyboardInterrupt",
          "evalue": "",
          "output_type": "error",
          "traceback": [
            "\u001b[0;31m---------------------------------------------------------------------------\u001b[0m",
            "\u001b[0;31mKeyboardInterrupt\u001b[0m                         Traceback (most recent call last)",
            "Cell \u001b[0;32mIn[18], line 26\u001b[0m\n\u001b[1;32m     23\u001b[0m         os\u001b[39m.\u001b[39mmakedirs(os\u001b[39m.\u001b[39mpath\u001b[39m.\u001b[39mjoin(pred_path,recording_name))\n\u001b[1;32m     25\u001b[0m     \u001b[39m# make 2D predictions:\u001b[39;00m\n\u001b[0;32m---> 26\u001b[0m     detect_landmark_video(vid_path,out_path,start_frame,num_frames)\n\u001b[1;32m     28\u001b[0m end_time \u001b[39m=\u001b[39m time\u001b[39m.\u001b[39mtime()  \u001b[39m# Record the end time of the iteration\u001b[39;00m\n\u001b[1;32m     29\u001b[0m iteration_time \u001b[39m=\u001b[39m end_time \u001b[39m-\u001b[39m start_time  \u001b[39m# Calculate the time taken by the iteration\u001b[39;00m\n",
            "Cell \u001b[0;32mIn[15], line 41\u001b[0m, in \u001b[0;36mdetect_landmark_video\u001b[0;34m(vid_path, out_path, start_frame, num_frames)\u001b[0m\n\u001b[1;32m     39\u001b[0m image\u001b[39m.\u001b[39mflags\u001b[39m.\u001b[39mwriteable \u001b[39m=\u001b[39m \u001b[39mFalse\u001b[39;00m\n\u001b[1;32m     40\u001b[0m image \u001b[39m=\u001b[39m cv2\u001b[39m.\u001b[39mcvtColor(image, cv2\u001b[39m.\u001b[39mCOLOR_BGR2RGB)\n\u001b[0;32m---> 41\u001b[0m results \u001b[39m=\u001b[39m hands\u001b[39m.\u001b[39;49mprocess(image)\n\u001b[1;32m     43\u001b[0m \u001b[39m# Draw the hand annotations on the image.\u001b[39;00m\n\u001b[1;32m     44\u001b[0m image\u001b[39m.\u001b[39mflags\u001b[39m.\u001b[39mwriteable \u001b[39m=\u001b[39m \u001b[39mTrue\u001b[39;00m\n",
            "File \u001b[0;32m~/Desktop/Projects/HandTracker3D/.conda/lib/python3.11/site-packages/mediapipe/python/solutions/hands.py:153\u001b[0m, in \u001b[0;36mHands.process\u001b[0;34m(self, image)\u001b[0m\n\u001b[1;32m    132\u001b[0m \u001b[39mdef\u001b[39;00m \u001b[39mprocess\u001b[39m(\u001b[39mself\u001b[39m, image: np\u001b[39m.\u001b[39mndarray) \u001b[39m-\u001b[39m\u001b[39m>\u001b[39m NamedTuple:\n\u001b[1;32m    133\u001b[0m \u001b[39m  \u001b[39m\u001b[39m\"\"\"Processes an RGB image and returns the hand landmarks and handedness of each detected hand.\u001b[39;00m\n\u001b[1;32m    134\u001b[0m \n\u001b[1;32m    135\u001b[0m \u001b[39m  Args:\u001b[39;00m\n\u001b[0;32m   (...)\u001b[0m\n\u001b[1;32m    150\u001b[0m \u001b[39m         right hand) of the detected hand.\u001b[39;00m\n\u001b[1;32m    151\u001b[0m \u001b[39m  \"\"\"\u001b[39;00m\n\u001b[0;32m--> 153\u001b[0m   \u001b[39mreturn\u001b[39;00m \u001b[39msuper\u001b[39;49m()\u001b[39m.\u001b[39;49mprocess(input_data\u001b[39m=\u001b[39;49m{\u001b[39m'\u001b[39;49m\u001b[39mimage\u001b[39;49m\u001b[39m'\u001b[39;49m: image})\n",
            "File \u001b[0;32m~/Desktop/Projects/HandTracker3D/.conda/lib/python3.11/site-packages/mediapipe/python/solution_base.py:340\u001b[0m, in \u001b[0;36mSolutionBase.process\u001b[0;34m(self, input_data)\u001b[0m\n\u001b[1;32m    334\u001b[0m   \u001b[39melse\u001b[39;00m:\n\u001b[1;32m    335\u001b[0m     \u001b[39mself\u001b[39m\u001b[39m.\u001b[39m_graph\u001b[39m.\u001b[39madd_packet_to_input_stream(\n\u001b[1;32m    336\u001b[0m         stream\u001b[39m=\u001b[39mstream_name,\n\u001b[1;32m    337\u001b[0m         packet\u001b[39m=\u001b[39m\u001b[39mself\u001b[39m\u001b[39m.\u001b[39m_make_packet(input_stream_type,\n\u001b[1;32m    338\u001b[0m                                  data)\u001b[39m.\u001b[39mat(\u001b[39mself\u001b[39m\u001b[39m.\u001b[39m_simulated_timestamp))\n\u001b[0;32m--> 340\u001b[0m \u001b[39mself\u001b[39;49m\u001b[39m.\u001b[39;49m_graph\u001b[39m.\u001b[39;49mwait_until_idle()\n\u001b[1;32m    341\u001b[0m \u001b[39m# Create a NamedTuple object where the field names are mapping to the graph\u001b[39;00m\n\u001b[1;32m    342\u001b[0m \u001b[39m# output stream names.\u001b[39;00m\n\u001b[1;32m    343\u001b[0m \u001b[39mif\u001b[39;00m \u001b[39mself\u001b[39m\u001b[39m.\u001b[39m_output_stream_type_info \u001b[39mis\u001b[39;00m \u001b[39mNone\u001b[39;00m:\n",
            "\u001b[0;31mKeyboardInterrupt\u001b[0m: "
          ]
        }
      ],
      "source": [
        "import os\n",
        "import time\n",
        "\n",
        "data_path = '/media/pruszynski/Data'\n",
        "recording_name = 'Recording_2023-05-15T154223' #Jon's no board\n",
        "# recording_name = 'Recording_2023-05-05T100719' #Tomo's messy situation\n",
        "# recording_name = 'Recording_2024-01-31T114025' # Ali's normal recording\n",
        "pred_path = './Predictions2D'\n",
        "\n",
        "start_frame = 0\n",
        "num_frames = 100\n",
        "# Loop through all .avi vids in the folder\n",
        "for filename in os.listdir(os.path.join(data_path, recording_name)):\n",
        "    start_time = time.time()  # Record the start time of the iteration\n",
        "\n",
        "    if filename.endswith('.avi'):\n",
        "        # Construct the full path to the .avi file and output prediction:\n",
        "        vid_path = os.path.join(data_path, recording_name, filename)\n",
        "        out_path = os.path.join(pred_path, recording_name, filename)\n",
        "\n",
        "        # Ensure the prediction directory exists, create it if it doesn't\n",
        "        if not os.path.exists(os.path.join(pred_path,recording_name)):\n",
        "            os.makedirs(os.path.join(pred_path,recording_name))\n",
        "        \n",
        "        # make 2D predictions:\n",
        "        detect_landmark_video(vid_path,out_path,start_frame,num_frames)\n",
        "    \n",
        "    end_time = time.time()  # Record the end time of the iteration\n",
        "    iteration_time = end_time - start_time  # Calculate the time taken by the iteration\n",
        "    print(f\"Duration: {iteration_time:.2f} seconds\")\n"
      ]
    }
  ],
  "metadata": {
    "colab": {
      "collapsed_sections": [
        "h2q27gKz1H20"
      ],
      "provenance": []
    },
    "kernelspec": {
      "display_name": "Python 3 (ipykernel)",
      "language": "python",
      "name": "python3"
    },
    "language_info": {
      "codemirror_mode": {
        "name": "ipython",
        "version": 3
      },
      "file_extension": ".py",
      "mimetype": "text/x-python",
      "name": "python",
      "nbconvert_exporter": "python",
      "pygments_lexer": "ipython3",
      "version": "3.11.9"
    }
  },
  "nbformat": 4,
  "nbformat_minor": 0
}
