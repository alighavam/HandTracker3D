{
  "cells": [
    {
      "cell_type": "markdown",
      "metadata": {
        "id": "h2q27gKz1H20"
      },
      "source": [
        "##### Copyright 2023 The MediaPipe Authors. All Rights Reserved."
      ]
    },
    {
      "cell_type": "code",
      "execution_count": null,
      "metadata": {
        "id": "TUfAcER1oUS6"
      },
      "outputs": [],
      "source": [
        "#@title Licensed under the Apache License, Version 2.0 (the \"License\");\n",
        "# you may not use this file except in compliance with the License.\n",
        "# You may obtain a copy of the License at\n",
        "#\n",
        "# https://www.apache.org/licenses/LICENSE-2.0\n",
        "#\n",
        "# Unless required by applicable law or agreed to in writing, software\n",
        "# distributed under the License is distributed on an \"AS IS\" BASIS,\n",
        "# WITHOUT WARRANTIES OR CONDITIONS OF ANY KIND, either express or implied.\n",
        "# See the License for the specific language governing permissions and\n",
        "# limitations under the License."
      ]
    },
    {
      "cell_type": "code",
      "execution_count": null,
      "metadata": {},
      "outputs": [],
      "source": [
        "import mediapipe as mp\n",
        "import cv2\n",
        "from mediapipe import solutions\n",
        "from mediapipe.framework.formats import landmark_pb2\n",
        "import numpy as np"
      ]
    },
    {
      "attachments": {},
      "cell_type": "markdown",
      "metadata": {},
      "source": [
        "## Put Annotations on the frame"
      ]
    },
    {
      "cell_type": "code",
      "execution_count": 3,
      "metadata": {},
      "outputs": [],
      "source": [
        "MARGIN = 10  # pixels\n",
        "FONT_SIZE = 1\n",
        "FONT_THICKNESS = 1\n",
        "HANDEDNESS_TEXT_COLOR = (88, 205, 54) # vibrant green\n",
        "\n",
        "def draw_landmarks_on_image(rgb_image, detection_result):\n",
        "  hand_landmarks_list = detection_result.hand_landmarks\n",
        "  handedness_list = detection_result.handedness\n",
        "  annotated_image = np.copy(rgb_image)\n",
        "\n",
        "  # Loop through the detected hands to visualize.\n",
        "  for idx in range(len(hand_landmarks_list)):\n",
        "    hand_landmarks = hand_landmarks_list[idx]\n",
        "    handedness = handedness_list[idx]\n",
        "\n",
        "    # Draw the hand landmarks.\n",
        "    hand_landmarks_proto = landmark_pb2.NormalizedLandmarkList()\n",
        "    hand_landmarks_proto.landmark.extend([\n",
        "      landmark_pb2.NormalizedLandmark(x=landmark.x, y=landmark.y, z=landmark.z) for landmark in hand_landmarks\n",
        "    ])\n",
        "    solutions.drawing_utils.draw_landmarks(\n",
        "      annotated_image,\n",
        "      hand_landmarks_proto,\n",
        "      solutions.hands.HAND_CONNECTIONS,\n",
        "      solutions.drawing_styles.get_default_hand_landmarks_style(),\n",
        "      solutions.drawing_styles.get_default_hand_connections_style())\n",
        "\n",
        "    # Get the top left corner of the detected hand's bounding box.\n",
        "    height, width, _ = annotated_image.shape\n",
        "    x_coordinates = [landmark.x for landmark in hand_landmarks]\n",
        "    y_coordinates = [landmark.y for landmark in hand_landmarks]\n",
        "    text_x = int(min(x_coordinates) * width)\n",
        "    text_y = int(min(y_coordinates) * height) - MARGIN\n",
        "\n",
        "    # Draw handedness (left or right hand) on the image.\n",
        "    cv2.putText(annotated_image, f\"{handedness[0].category_name}\",\n",
        "                (text_x, text_y), cv2.FONT_HERSHEY_DUPLEX,\n",
        "                FONT_SIZE, HANDEDNESS_TEXT_COLOR, FONT_THICKNESS, cv2.LINE_AA)\n",
        "\n",
        "  return annotated_image"
      ]
    },
    {
      "attachments": {},
      "cell_type": "markdown",
      "metadata": {},
      "source": [
        "## Detect landmarks in vid"
      ]
    },
    {
      "cell_type": "code",
      "execution_count": 7,
      "metadata": {},
      "outputs": [],
      "source": [
        "def detect_landmark_video(vid_path,out_path):\n",
        "    # Use OpenCV’s VideoCapture to load the input video:\n",
        "    video_capture = cv2.VideoCapture(vid_path)\n",
        "\n",
        "    # Load the frame rate of the video using OpenCV’s CV_CAP_PROP_FPS:\n",
        "    frame_rate = video_capture.get(cv2.CAP_PROP_FPS)\n",
        "\n",
        "    # calculate the timestamp for each frame in ms:\n",
        "    timestamp = 1 / frame_rate * 1000\n",
        "\n",
        "    BaseOptions = mp.tasks.BaseOptions\n",
        "    HandLandmarker = mp.tasks.vision.HandLandmarker\n",
        "    HandLandmarkerOptions = mp.tasks.vision.HandLandmarkerOptions\n",
        "    VisionRunningMode = mp.tasks.vision.RunningMode\n",
        "\n",
        "    model_path = './hand_landmarker.task'\n",
        "\n",
        "    annotated_results = []\n",
        "    # Create a hand landmarker instance with the video mode:\n",
        "    options = HandLandmarkerOptions(\n",
        "        base_options=BaseOptions(model_asset_path=model_path),\n",
        "        running_mode=VisionRunningMode.VIDEO)\n",
        "    with HandLandmarker.create_from_options(options) as landmarker:\n",
        "        frame_timestamp = 0\n",
        "        # Loop through each frame in the video using VideoCapture.read():\n",
        "        while video_capture.isOpened():\n",
        "            ret, frame = video_capture.read()\n",
        "            if not ret:\n",
        "                break\n",
        "            \n",
        "            # Convert the frame received from OpenCV to a MediaPipe’s Image object.\n",
        "            mp_image = mp.Image(image_format=mp.ImageFormat.SRGB, data=frame)\n",
        "\n",
        "            # calculate the frame timestamp in ms:\n",
        "            frame_timestamp += timestamp\n",
        "\n",
        "            # Perform hand landmarks detection on the provided single image:\n",
        "            hand_landmarker_result = landmarker.detect_for_video(mp_image, int(frame_timestamp))\n",
        "\n",
        "            annotated_image = draw_landmarks_on_image(mp_image.numpy_view(), hand_landmarker_result)\n",
        "            # cv2.imshow('Frame',annotated_image)\n",
        "            # cv2.waitKey(0)\n",
        "            # cv2.destroyAllWindows() # It destroys the image showing the window.\n",
        "\n",
        "            # append the annotated image to the list:\n",
        "            annotated_results.append(annotated_image)\n",
        "\n",
        "    # Release the VideoCapture object and close the OpenCV window:\n",
        "    video_capture.release()\n",
        "\n",
        "    # Save the annotated results as a video:\n",
        "    height, width, _ = annotated_results[0].shape\n",
        "    fourcc = cv2.VideoWriter_fourcc(*'XVID')\n",
        "    out = cv2.VideoWriter(out_path, fourcc, frame_rate, (width, height))\n",
        "    for frame in annotated_results:\n",
        "        out.write(frame)\n",
        "\n",
        "    out.release()"
      ]
    },
    {
      "attachments": {},
      "cell_type": "markdown",
      "metadata": {},
      "source": [
        "## 2D prediction"
      ]
    },
    {
      "cell_type": "code",
      "execution_count": 13,
      "metadata": {},
      "outputs": [
        {
          "name": "stderr",
          "output_type": "stream",
          "text": [
            "I0000 00:00:1715124675.414183  845068 gl_context_egl.cc:85] Successfully initialized EGL. Major : 1 Minor: 5\n",
            "I0000 00:00:1715124675.476003  846183 gl_context.cc:357] GL version: 3.2 (OpenGL ES 3.2 NVIDIA 525.105.17), renderer: NVIDIA GeForce GTX 1080 Ti/PCIe/SSE2\n"
          ]
        },
        {
          "ename": "RuntimeError",
          "evalue": "Unable to open file at /Users/alighavampour/Desktop/Projects/Tracker/hand_landmarker.task",
          "output_type": "error",
          "traceback": [
            "\u001b[0;31m---------------------------------------------------------------------------\u001b[0m",
            "\u001b[0;31mRuntimeError\u001b[0m                              Traceback (most recent call last)",
            "Cell \u001b[0;32mIn[13], line 22\u001b[0m\n\u001b[1;32m     19\u001b[0m         os\u001b[39m.\u001b[39mmakedirs(os\u001b[39m.\u001b[39mpath\u001b[39m.\u001b[39mjoin(pred_path,recording_name))\n\u001b[1;32m     21\u001b[0m     \u001b[39m# make 2D predictions:\u001b[39;00m\n\u001b[0;32m---> 22\u001b[0m     detect_landmark_video(vid_path,out_path)\n\u001b[1;32m     24\u001b[0m end_time \u001b[39m=\u001b[39m time\u001b[39m.\u001b[39mtime()  \u001b[39m# Record the end time of the iteration\u001b[39;00m\n\u001b[1;32m     25\u001b[0m iteration_time \u001b[39m=\u001b[39m end_time \u001b[39m-\u001b[39m start_time  \u001b[39m# Calculate the time taken by the iteration\u001b[39;00m\n",
            "Cell \u001b[0;32mIn[7], line 24\u001b[0m, in \u001b[0;36mdetect_landmark_video\u001b[0;34m(vid_path, pred_path)\u001b[0m\n\u001b[1;32m     20\u001b[0m \u001b[39m# Create a hand landmarker instance with the video mode:\u001b[39;00m\n\u001b[1;32m     21\u001b[0m options \u001b[39m=\u001b[39m HandLandmarkerOptions(\n\u001b[1;32m     22\u001b[0m     base_options\u001b[39m=\u001b[39mBaseOptions(model_asset_path\u001b[39m=\u001b[39mmodel_path),\n\u001b[1;32m     23\u001b[0m     running_mode\u001b[39m=\u001b[39mVisionRunningMode\u001b[39m.\u001b[39mVIDEO)\n\u001b[0;32m---> 24\u001b[0m \u001b[39mwith\u001b[39;00m HandLandmarker\u001b[39m.\u001b[39;49mcreate_from_options(options) \u001b[39mas\u001b[39;00m landmarker:\n\u001b[1;32m     25\u001b[0m     frame_timestamp \u001b[39m=\u001b[39m \u001b[39m0\u001b[39m\n\u001b[1;32m     26\u001b[0m     \u001b[39m# Loop through each frame in the video using VideoCapture.read():\u001b[39;00m\n",
            "File \u001b[0;32m~/Desktop/Projects/HandTracker3D/.conda/lib/python3.11/site-packages/mediapipe/tasks/python/vision/hand_landmarker.py:364\u001b[0m, in \u001b[0;36mHandLandmarker.create_from_options\u001b[0;34m(cls, options)\u001b[0m\n\u001b[1;32m    342\u001b[0m   options\u001b[39m.\u001b[39mresult_callback(\n\u001b[1;32m    343\u001b[0m       hand_landmarks_detection_result,\n\u001b[1;32m    344\u001b[0m       image,\n\u001b[1;32m    345\u001b[0m       timestamp\u001b[39m.\u001b[39mvalue \u001b[39m/\u001b[39m\u001b[39m/\u001b[39m _MICRO_SECONDS_PER_MILLISECOND,\n\u001b[1;32m    346\u001b[0m   )\n\u001b[1;32m    348\u001b[0m task_info \u001b[39m=\u001b[39m _TaskInfo(\n\u001b[1;32m    349\u001b[0m     task_graph\u001b[39m=\u001b[39m_TASK_GRAPH_NAME,\n\u001b[1;32m    350\u001b[0m     input_streams\u001b[39m=\u001b[39m[\n\u001b[0;32m   (...)\u001b[0m\n\u001b[1;32m    362\u001b[0m     task_options\u001b[39m=\u001b[39moptions,\n\u001b[1;32m    363\u001b[0m )\n\u001b[0;32m--> 364\u001b[0m \u001b[39mreturn\u001b[39;00m \u001b[39mcls\u001b[39;49m(\n\u001b[1;32m    365\u001b[0m     task_info\u001b[39m.\u001b[39;49mgenerate_graph_config(\n\u001b[1;32m    366\u001b[0m         enable_flow_limiting\u001b[39m=\u001b[39;49moptions\u001b[39m.\u001b[39;49mrunning_mode\n\u001b[1;32m    367\u001b[0m         \u001b[39m==\u001b[39;49m _RunningMode\u001b[39m.\u001b[39;49mLIVE_STREAM\n\u001b[1;32m    368\u001b[0m     ),\n\u001b[1;32m    369\u001b[0m     options\u001b[39m.\u001b[39;49mrunning_mode,\n\u001b[1;32m    370\u001b[0m     packets_callback \u001b[39mif\u001b[39;49;00m options\u001b[39m.\u001b[39;49mresult_callback \u001b[39melse\u001b[39;49;00m \u001b[39mNone\u001b[39;49;00m,\n\u001b[1;32m    371\u001b[0m )\n",
            "File \u001b[0;32m~/Desktop/Projects/HandTracker3D/.conda/lib/python3.11/site-packages/mediapipe/tasks/python/vision/core/base_vision_task_api.py:70\u001b[0m, in \u001b[0;36mBaseVisionTaskApi.__init__\u001b[0;34m(self, graph_config, running_mode, packet_callback)\u001b[0m\n\u001b[1;32m     65\u001b[0m \u001b[39melif\u001b[39;00m packet_callback:\n\u001b[1;32m     66\u001b[0m   \u001b[39mraise\u001b[39;00m \u001b[39mValueError\u001b[39;00m(\n\u001b[1;32m     67\u001b[0m       \u001b[39m'\u001b[39m\u001b[39mThe vision task is in image or video mode, a user-defined result \u001b[39m\u001b[39m'\u001b[39m\n\u001b[1;32m     68\u001b[0m       \u001b[39m'\u001b[39m\u001b[39mcallback should not be provided.\u001b[39m\u001b[39m'\u001b[39m\n\u001b[1;32m     69\u001b[0m   )\n\u001b[0;32m---> 70\u001b[0m \u001b[39mself\u001b[39m\u001b[39m.\u001b[39m_runner \u001b[39m=\u001b[39m _TaskRunner\u001b[39m.\u001b[39;49mcreate(graph_config, packet_callback)\n\u001b[1;32m     71\u001b[0m \u001b[39mself\u001b[39m\u001b[39m.\u001b[39m_running_mode \u001b[39m=\u001b[39m running_mode\n",
            "\u001b[0;31mRuntimeError\u001b[0m: Unable to open file at /Users/alighavampour/Desktop/Projects/Tracker/hand_landmarker.task"
          ]
        }
      ],
      "source": [
        "import os\n",
        "import time\n",
        "\n",
        "data_path = '/media/pruszynski/Data'\n",
        "recording_name = 'Recording_2023-05-15T154223'\n",
        "pred_path = './Predictions2D'\n",
        "\n",
        "# Loop through all .avi vids in the folder\n",
        "for filename in os.listdir(os.path.join(data_path, recording_name)):\n",
        "    start_time = time.time()  # Record the start time of the iteration\n",
        "\n",
        "    if filename.endswith('.avi'):\n",
        "        # Construct the full path to the .avi file and output prediction:\n",
        "        vid_path = os.path.join(data_path, recording_name, filename)\n",
        "        out_path = os.path.join(pred_path, recording_name, filename)\n",
        "\n",
        "        # Ensure the prediction directory exists, create it if it doesn't\n",
        "        if not os.path.exists(os.path.join(pred_path,recording_name)):\n",
        "            os.makedirs(os.path.join(pred_path,recording_name))\n",
        "        \n",
        "        # make 2D predictions:\n",
        "        detect_landmark_video(vid_path,out_path)\n",
        "    \n",
        "    end_time = time.time()  # Record the end time of the iteration\n",
        "    iteration_time = end_time - start_time  # Calculate the time taken by the iteration\n",
        "    print(f\"Duration: {iteration_time:.2f} seconds\")\n"
      ]
    }
  ],
  "metadata": {
    "colab": {
      "collapsed_sections": [
        "h2q27gKz1H20"
      ],
      "provenance": []
    },
    "kernelspec": {
      "display_name": "Python 3 (ipykernel)",
      "language": "python",
      "name": "python3"
    },
    "language_info": {
      "codemirror_mode": {
        "name": "ipython",
        "version": 3
      },
      "file_extension": ".py",
      "mimetype": "text/x-python",
      "name": "python",
      "nbconvert_exporter": "python",
      "pygments_lexer": "ipython3",
      "version": "3.11.9"
    }
  },
  "nbformat": 4,
  "nbformat_minor": 0
}
