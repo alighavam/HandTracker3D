{
  "cells": [
    {
      "cell_type": "markdown",
      "metadata": {
        "id": "h2q27gKz1H20"
      },
      "source": [
        "##### Copyright 2023 The MediaPipe Authors. All Rights Reserved."
      ]
    },
    {
      "cell_type": "code",
      "execution_count": 27,
      "metadata": {
        "id": "TUfAcER1oUS6"
      },
      "outputs": [],
      "source": [
        "#@title Licensed under the Apache License, Version 2.0 (the \"License\");\n",
        "# you may not use this file except in compliance with the License.\n",
        "# You may obtain a copy of the License at\n",
        "#\n",
        "# https://www.apache.org/licenses/LICENSE-2.0\n",
        "#\n",
        "# Unless required by applicable law or agreed to in writing, software\n",
        "# distributed under the License is distributed on an \"AS IS\" BASIS,\n",
        "# WITHOUT WARRANTIES OR CONDITIONS OF ANY KIND, either express or implied.\n",
        "# See the License for the specific language governing permissions and\n",
        "# limitations under the License."
      ]
    },
    {
      "attachments": {},
      "cell_type": "markdown",
      "metadata": {},
      "source": [
        "## Detect landmarks in vid"
      ]
    },
    {
      "cell_type": "code",
      "execution_count": 7,
      "metadata": {},
      "outputs": [],
      "source": [
        "import cv2\n",
        "import mediapipe as mp\n",
        "mp_drawing = mp.solutions.drawing_utils\n",
        "mp_drawing_styles = mp.solutions.drawing_styles\n",
        "mp_hands = mp.solutions.hands\n",
        "\n",
        "def detect_landmark_video(vid_path,out_path,start_frame,num_frames):\n",
        "    # Use OpenCV’s VideoCapture to load the input video:\n",
        "    video_capture = cv2.VideoCapture(vid_path)\n",
        "\n",
        "    # Load the frame rate of the video using OpenCV’s CV_CAP_PROP_FPS:\n",
        "    frame_rate = video_capture.get(cv2.CAP_PROP_FPS)\n",
        "\n",
        "    annotated_results = []\n",
        "    # Create a hand landmarker instance with the video mode:\n",
        "    with mp_hands.Hands(\n",
        "    model_complexity=1,\n",
        "    max_num_hands=1,\n",
        "    min_detection_confidence=0.5,\n",
        "    min_tracking_confidence=0.5) as hands:\n",
        "      while video_capture.isOpened():\n",
        "        # success, image = cap.read()\n",
        "        ret, image = video_capture.read()\n",
        "        if not ret:\n",
        "          print(\"Ignoring empty camera frame.\")\n",
        "          # If loading a video, use 'break' instead of 'continue'.\n",
        "          break\n",
        "        \n",
        "        # To improve performance, optionally mark the image as not writeable to\n",
        "        # pass by reference.\n",
        "        image.flags.writeable = False\n",
        "        image = cv2.cvtColor(image, cv2.COLOR_BGR2RGB)\n",
        "        results = hands.process(image)\n",
        "\n",
        "        # Draw the hand annotations on the image.\n",
        "        image.flags.writeable = True\n",
        "        image = cv2.cvtColor(image, cv2.COLOR_RGB2BGR)\n",
        "        if results.multi_hand_landmarks:\n",
        "          for hand_landmarks in results.multi_hand_landmarks:\n",
        "            mp_drawing.draw_landmarks(\n",
        "                image,\n",
        "                hand_landmarks,\n",
        "                mp_hands.HAND_CONNECTIONS,\n",
        "                mp_drawing_styles.get_default_hand_landmarks_style(),\n",
        "                mp_drawing_styles.get_default_hand_connections_style())\n",
        "        \n",
        "        # append the annotated image to the list:\n",
        "        annotated_results.append(image)\n",
        "      \n",
        "      # Release the VideoCapture object and close the OpenCV window:\n",
        "      video_capture.release()\n",
        "\n",
        "      # Save the annotated results as a video:\n",
        "      height, width, _ = annotated_results[0].shape\n",
        "      fourcc = cv2.VideoWriter_fourcc(*'XVID')\n",
        "      out = cv2.VideoWriter(out_path, fourcc, frame_rate, (width, height))\n",
        "      for frame in annotated_results:\n",
        "          out.write(frame)\n",
        "\n",
        "      out.release()"
      ]
    },
    {
      "attachments": {},
      "cell_type": "markdown",
      "metadata": {},
      "source": [
        "## 2D prediction"
      ]
    },
    {
      "cell_type": "code",
      "execution_count": 8,
      "metadata": {},
      "outputs": [
        {
          "name": "stderr",
          "output_type": "stream",
          "text": [
            "I0000 00:00:1715136068.817351  852888 gl_context_egl.cc:85] Successfully initialized EGL. Major : 1 Minor: 5\n",
            "I0000 00:00:1715136068.906127  855052 gl_context.cc:357] GL version: 3.2 (OpenGL ES 3.2 NVIDIA 525.105.17), renderer: NVIDIA GeForce GTX 1080 Ti/PCIe/SSE2\n"
          ]
        },
        {
          "name": "stdout",
          "output_type": "stream",
          "text": [
            "Ignoring empty camera frame.\n",
            "Duration: 231.45 seconds\n"
          ]
        },
        {
          "name": "stderr",
          "output_type": "stream",
          "text": [
            "I0000 00:00:1715136300.275320  852888 gl_context_egl.cc:85] Successfully initialized EGL. Major : 1 Minor: 5\n",
            "I0000 00:00:1715136300.409224  855125 gl_context.cc:357] GL version: 3.2 (OpenGL ES 3.2 NVIDIA 525.105.17), renderer: NVIDIA GeForce GTX 1080 Ti/PCIe/SSE2\n"
          ]
        },
        {
          "name": "stdout",
          "output_type": "stream",
          "text": [
            "Ignoring empty camera frame.\n",
            "Duration: 229.48 seconds\n"
          ]
        },
        {
          "name": "stderr",
          "output_type": "stream",
          "text": [
            "I0000 00:00:1715136529.759489  852888 gl_context_egl.cc:85] Successfully initialized EGL. Major : 1 Minor: 5\n",
            "I0000 00:00:1715136529.892267  855208 gl_context.cc:357] GL version: 3.2 (OpenGL ES 3.2 NVIDIA 525.105.17), renderer: NVIDIA GeForce GTX 1080 Ti/PCIe/SSE2\n"
          ]
        },
        {
          "name": "stdout",
          "output_type": "stream",
          "text": [
            "Ignoring empty camera frame.\n",
            "Duration: 218.03 seconds\n"
          ]
        },
        {
          "name": "stderr",
          "output_type": "stream",
          "text": [
            "I0000 00:00:1715136747.786038  852888 gl_context_egl.cc:85] Successfully initialized EGL. Major : 1 Minor: 5\n",
            "I0000 00:00:1715136747.894571  855278 gl_context.cc:357] GL version: 3.2 (OpenGL ES 3.2 NVIDIA 525.105.17), renderer: NVIDIA GeForce GTX 1080 Ti/PCIe/SSE2\n"
          ]
        },
        {
          "name": "stdout",
          "output_type": "stream",
          "text": [
            "Ignoring empty camera frame.\n",
            "Duration: 235.84 seconds\n"
          ]
        },
        {
          "name": "stderr",
          "output_type": "stream",
          "text": [
            "I0000 00:00:1715136983.622900  852888 gl_context_egl.cc:85] Successfully initialized EGL. Major : 1 Minor: 5\n",
            "I0000 00:00:1715136983.758094  855447 gl_context.cc:357] GL version: 3.2 (OpenGL ES 3.2 NVIDIA 525.105.17), renderer: NVIDIA GeForce GTX 1080 Ti/PCIe/SSE2\n"
          ]
        }
      ],
      "source": [
        "import os\n",
        "import time\n",
        "\n",
        "data_path = '/media/pruszynski/Data'\n",
        "recording_name = 'Recording_2023-05-15T154223' #Jon's no board\n",
        "# recording_name = 'Recording_2023-05-05T100719' #Tomo's messy situation\n",
        "# recording_name = 'Recording_2024-01-31T114025' # Ali's normal recording\n",
        "pred_path = './Predictions2D'\n",
        "\n",
        "start_frame = 0\n",
        "num_frames = 2000\n",
        "# Loop through all .avi vids in the folder\n",
        "for filename in os.listdir(os.path.join(data_path, recording_name)):\n",
        "    start_time = time.time()  # Record the start time of the iteration\n",
        "\n",
        "    if filename.endswith('.avi'):\n",
        "        # Construct the full path to the .avi file and output prediction:\n",
        "        vid_path = os.path.join(data_path, recording_name, filename)\n",
        "        out_path = os.path.join(pred_path, recording_name, filename)\n",
        "\n",
        "        # Ensure the prediction directory exists, create it if it doesn't\n",
        "        if not os.path.exists(os.path.join(pred_path,recording_name)):\n",
        "            os.makedirs(os.path.join(pred_path,recording_name))\n",
        "        \n",
        "        # make 2D predictions:\n",
        "        detect_landmark_video(vid_path,out_path,start_frame,num_frames)\n",
        "    \n",
        "    end_time = time.time()  # Record the end time of the iteration\n",
        "    iteration_time = end_time - start_time  # Calculate the time taken by the iteration\n",
        "    print(f\"Duration: {iteration_time:.2f} seconds\")\n"
      ]
    }
  ],
  "metadata": {
    "colab": {
      "collapsed_sections": [
        "h2q27gKz1H20"
      ],
      "provenance": []
    },
    "kernelspec": {
      "display_name": "Python 3 (ipykernel)",
      "language": "python",
      "name": "python3"
    },
    "language_info": {
      "codemirror_mode": {
        "name": "ipython",
        "version": 3
      },
      "file_extension": ".py",
      "mimetype": "text/x-python",
      "name": "python",
      "nbconvert_exporter": "python",
      "pygments_lexer": "ipython3",
      "version": "3.11.9"
    }
  },
  "nbformat": 4,
  "nbformat_minor": 0
}
