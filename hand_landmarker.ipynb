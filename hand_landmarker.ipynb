{
  "cells": [
    {
      "cell_type": "markdown",
      "metadata": {
        "id": "h2q27gKz1H20"
      },
      "source": [
        "##### Copyright 2023 The MediaPipe Authors. All Rights Reserved."
      ]
    },
    {
      "cell_type": "code",
      "execution_count": null,
      "metadata": {
        "id": "TUfAcER1oUS6"
      },
      "outputs": [],
      "source": [
        "#@title Licensed under the Apache License, Version 2.0 (the \"License\");\n",
        "# you may not use this file except in compliance with the License.\n",
        "# You may obtain a copy of the License at\n",
        "#\n",
        "# https://www.apache.org/licenses/LICENSE-2.0\n",
        "#\n",
        "# Unless required by applicable law or agreed to in writing, software\n",
        "# distributed under the License is distributed on an \"AS IS\" BASIS,\n",
        "# WITHOUT WARRANTIES OR CONDITIONS OF ANY KIND, either express or implied.\n",
        "# See the License for the specific language governing permissions and\n",
        "# limitations under the License."
      ]
    },
    {
      "cell_type": "markdown",
      "metadata": {
        "id": "L_cQX8dWu4Dv"
      },
      "source": [
        "# Hand Landmarks Detection with MediaPipe Tasks\n",
        "\n",
        "This notebook shows you how to use MediaPipe Tasks Python API to detect hand landmarks from images."
      ]
    },
    {
      "cell_type": "markdown",
      "metadata": {
        "id": "O6PN9FvIx614"
      },
      "source": [
        "## Preparation\n",
        "\n",
        "Let's start with installing MediaPipe."
      ]
    },
    {
      "cell_type": "code",
      "execution_count": 1,
      "metadata": {
        "colab": {
          "base_uri": "https://localhost:8080/"
        },
        "id": "gxbHBsF-8Y_l",
        "outputId": "0db15123-109c-4267-cc95-de195b014a1b"
      },
      "outputs": [],
      "source": [
        "!pip install -q mediapipe"
      ]
    },
    {
      "cell_type": "markdown",
      "metadata": {},
      "source": [
        "# Test 1 - 2D pred"
      ]
    },
    {
      "cell_type": "code",
      "execution_count": 2,
      "metadata": {},
      "outputs": [],
      "source": [
        "import mediapipe as mp\n",
        "from mediapipe.tasks import python\n",
        "from mediapipe.tasks.python import vision\n",
        "import cv2"
      ]
    },
    {
      "cell_type": "code",
      "execution_count": 4,
      "metadata": {},
      "outputs": [
        {
          "name": "stderr",
          "output_type": "stream",
          "text": [
            "I0000 00:00:1715120637.067141 4269195 gl_context.cc:357] GL version: 2.1 (2.1 ATI-4.8.101), renderer: AMD Radeon R9 M395 OpenGL Engine\n"
          ]
        }
      ],
      "source": [
        "import mediapipe as mp\n",
        "import cv2\n",
        "from mediapipe import solutions\n",
        "from mediapipe.framework.formats import landmark_pb2\n",
        "import numpy as np\n",
        "\n",
        "MARGIN = 10  # pixels\n",
        "FONT_SIZE = 1\n",
        "FONT_THICKNESS = 1\n",
        "HANDEDNESS_TEXT_COLOR = (88, 205, 54) # vibrant green\n",
        "\n",
        "def draw_landmarks_on_image(rgb_image, detection_result):\n",
        "  hand_landmarks_list = detection_result.hand_landmarks\n",
        "  handedness_list = detection_result.handedness\n",
        "  annotated_image = np.copy(rgb_image)\n",
        "\n",
        "  # Loop through the detected hands to visualize.\n",
        "  for idx in range(len(hand_landmarks_list)):\n",
        "    hand_landmarks = hand_landmarks_list[idx]\n",
        "    handedness = handedness_list[idx]\n",
        "\n",
        "    # Draw the hand landmarks.\n",
        "    hand_landmarks_proto = landmark_pb2.NormalizedLandmarkList()\n",
        "    hand_landmarks_proto.landmark.extend([\n",
        "      landmark_pb2.NormalizedLandmark(x=landmark.x, y=landmark.y, z=landmark.z) for landmark in hand_landmarks\n",
        "    ])\n",
        "    solutions.drawing_utils.draw_landmarks(\n",
        "      annotated_image,\n",
        "      hand_landmarks_proto,\n",
        "      solutions.hands.HAND_CONNECTIONS,\n",
        "      solutions.drawing_styles.get_default_hand_landmarks_style(),\n",
        "      solutions.drawing_styles.get_default_hand_connections_style())\n",
        "\n",
        "    # Get the top left corner of the detected hand's bounding box.\n",
        "    height, width, _ = annotated_image.shape\n",
        "    x_coordinates = [landmark.x for landmark in hand_landmarks]\n",
        "    y_coordinates = [landmark.y for landmark in hand_landmarks]\n",
        "    text_x = int(min(x_coordinates) * width)\n",
        "    text_y = int(min(y_coordinates) * height) - MARGIN\n",
        "\n",
        "    # Draw handedness (left or right hand) on the image.\n",
        "    cv2.putText(annotated_image, f\"{handedness[0].category_name}\",\n",
        "                (text_x, text_y), cv2.FONT_HERSHEY_DUPLEX,\n",
        "                FONT_SIZE, HANDEDNESS_TEXT_COLOR, FONT_THICKNESS, cv2.LINE_AA)\n",
        "\n",
        "  return annotated_image\n",
        "\n",
        "# Use OpenCV’s VideoCapture to load the input video:\n",
        "vid_path = './Camera_LF.avi'\n",
        "video_capture = cv2.VideoCapture(vid_path)\n",
        "\n",
        "# Load the frame rate of the video using OpenCV’s CV_CAP_PROP_FPS:\n",
        "frame_rate = video_capture.get(cv2.CAP_PROP_FPS)\n",
        "\n",
        "# calculate the timestamp for each frame in ms:\n",
        "timestamp = 1 / frame_rate * 1000\n",
        "\n",
        "BaseOptions = mp.tasks.BaseOptions\n",
        "HandLandmarker = mp.tasks.vision.HandLandmarker\n",
        "HandLandmarkerOptions = mp.tasks.vision.HandLandmarkerOptions\n",
        "VisionRunningMode = mp.tasks.vision.RunningMode\n",
        "\n",
        "model_path = '/Users/alighavampour/Desktop/Projects/Tracker/hand_landmarker.task'\n",
        "\n",
        "annotated_results = []\n",
        "# Create a hand landmarker instance with the video mode:\n",
        "options = HandLandmarkerOptions(\n",
        "    base_options=BaseOptions(model_asset_path=model_path),\n",
        "    running_mode=VisionRunningMode.VIDEO)\n",
        "with HandLandmarker.create_from_options(options) as landmarker:\n",
        "    frame_timestamp = 0\n",
        "    # Loop through each frame in the video using VideoCapture.read():\n",
        "    while video_capture.isOpened():\n",
        "        ret, frame = video_capture.read()\n",
        "        if not ret:\n",
        "            break\n",
        "        \n",
        "        # Convert the frame received from OpenCV to a MediaPipe’s Image object.\n",
        "        mp_image = mp.Image(image_format=mp.ImageFormat.SRGB, data=frame)\n",
        "\n",
        "        # calculate the frame timestamp in ms:\n",
        "        frame_timestamp += timestamp\n",
        "\n",
        "        # Perform hand landmarks detection on the provided single image:\n",
        "        hand_landmarker_result = landmarker.detect_for_video(mp_image, int(frame_timestamp))\n",
        "\n",
        "        annotated_image = draw_landmarks_on_image(mp_image.numpy_view(), hand_landmarker_result)\n",
        "        # cv2.imshow('Frame',annotated_image)\n",
        "        # cv2.waitKey(0)\n",
        "        # cv2.destroyAllWindows() # It destroys the image showing the window.\n",
        "\n",
        "        # append the annotated image to the list:\n",
        "        annotated_results.append(annotated_image)\n",
        "\n",
        "# Release the VideoCapture object and close the OpenCV window:\n",
        "video_capture.release()\n",
        "\n",
        "# Save the annotated results as a video:\n",
        "output_path = './output.avi'\n",
        "height, width, _ = annotated_results[0].shape\n",
        "fourcc = cv2.VideoWriter_fourcc(*'XVID')\n",
        "out = cv2.VideoWriter(output_path, fourcc, frame_rate, (width, height))\n",
        "for frame in annotated_results:\n",
        "    out.write(frame)\n",
        "\n",
        "out.release()\n",
        "\n",
        "        "
      ]
    }
  ],
  "metadata": {
    "colab": {
      "collapsed_sections": [
        "h2q27gKz1H20"
      ],
      "provenance": []
    },
    "kernelspec": {
      "display_name": "Python 3 (ipykernel)",
      "language": "python",
      "name": "python3"
    },
    "language_info": {
      "codemirror_mode": {
        "name": "ipython",
        "version": 3
      },
      "file_extension": ".py",
      "mimetype": "text/x-python",
      "name": "python",
      "nbconvert_exporter": "python",
      "pygments_lexer": "ipython3",
      "version": "3.11.9"
    }
  },
  "nbformat": 4,
  "nbformat_minor": 0
}
